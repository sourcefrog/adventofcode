{
 "metadata": {
  "language_info": {
   "codemirror_mode": {
    "name": "ipython",
    "version": 3
   },
   "file_extension": ".py",
   "mimetype": "text/x-python",
   "name": "python",
   "nbconvert_exporter": "python",
   "pygments_lexer": "ipython3",
   "version": "3.8.6-final"
  },
  "orig_nbformat": 2,
  "kernelspec": {
   "name": "python3",
   "display_name": "Python 3.8.6 64-bit",
   "metadata": {
    "interpreter": {
     "hash": "31f2aee4e71d21fbe5cf8b01ff0e069b9275f58929596ceb00d14d90e3e16cd6"
    }
   }
  }
 },
 "nbformat": 4,
 "nbformat_minor": 2,
 "cells": [
  {
   "source": [
    "https://adventofcode.com/2015/day/3\n"
   ],
   "cell_type": "markdown",
   "metadata": {}
  },
  {
   "cell_type": "code",
   "execution_count": 5,
   "metadata": {},
   "outputs": [],
   "source": [
    "inp = open(\"../input/03.txt\").read().strip()\n"
   ]
  },
  {
   "cell_type": "code",
   "execution_count": 17,
   "metadata": {
    "tags": []
   },
   "outputs": [
    {
     "output_type": "stream",
     "name": "stdout",
     "text": [
      "2081\n"
     ]
    }
   ],
   "source": [
    "# Answer to part 1 \n",
    "p = (0, 0)\n",
    "seen = set()\n",
    "mov = {'>': (1,0), '<': (-1,0), '^': (0,1), 'v': (0, -1)}\n",
    "for c in inp:\n",
    "    seen.add(p)\n",
    "    m = mov[c]\n",
    "    p = (p[0] + m[0], p[1] + m[1])\n",
    "print(len(seen))"
   ]
  },
  {
   "source": [
    "## Part 2"
   ],
   "cell_type": "markdown",
   "metadata": {}
  },
  {
   "cell_type": "code",
   "execution_count": 29,
   "metadata": {
    "tags": []
   },
   "outputs": [
    {
     "output_type": "stream",
     "name": "stdout",
     "text": [
      "2341\n"
     ]
    }
   ],
   "source": [
    "# inst = '^>v<'\n",
    "inst = inp\n",
    "pp = [(0, 0), (0,0)]\n",
    "seen = set([(0,0)])\n",
    "mov = {'>': (1,0), '<': (-1,0), '^': (0,1), 'v': (0, -1)}\n",
    "turn = 0\n",
    "for c in inst:\n",
    "    m = mov[c]\n",
    "    p = pp[turn]\n",
    "    pp[turn] = (p[0] + m[0], p[1] + m[1])\n",
    "    # print(turn, pp[turn])\n",
    "    seen.add(pp[turn])\n",
    "    turn = 1 - turn\n",
    "print(len(seen))"
   ]
  },
  {
   "source": [
    "2342 is too high"
   ],
   "cell_type": "markdown",
   "metadata": {}
  }
 ]
}